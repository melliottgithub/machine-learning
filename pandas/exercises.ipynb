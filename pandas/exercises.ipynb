{
 "cells": [
  {
   "cell_type": "markdown",
   "metadata": {},
   "source": [
    "Given the following DataFrame, write a Python program using Pandas to extract all rows where the price is greater than or equal to 20,000 and sort them in descending order by price.\n",
    "\n",
    "\n",
    "\n",
    "data = {\n",
    "\n",
    "    'Product': ['Laptop', 'Desktop', 'Tablet', 'Phone', 'Smartwatch'],\n",
    "\n",
    "    'Price': [25000, 12000, 8000, 22000, 5000]\n",
    "\n",
    "}\n",
    "\n",
    "\n",
    "\n",
    "df = pd.DataFrame(data)\n"
   ]
  },
  {
   "cell_type": "code",
   "execution_count": 3,
   "metadata": {},
   "outputs": [],
   "source": [
    "import numpy as np\n",
    "import pandas as pd"
   ]
  },
  {
   "cell_type": "code",
   "execution_count": 4,
   "metadata": {},
   "outputs": [],
   "source": [
    "data = {\n",
    "\n",
    "    'Product': ['Laptop', 'Desktop', 'Tablet', 'Phone', 'Smartwatch'],\n",
    "\n",
    "    'Price': [25000, 12000, 8000, 22000, 5000]\n",
    "\n",
    "}\n",
    "\n",
    "\n",
    "df = pd.DataFrame(data)"
   ]
  },
  {
   "cell_type": "code",
   "execution_count": null,
   "metadata": {},
   "outputs": [],
   "source": []
  }
 ],
 "metadata": {
  "kernelspec": {
   "display_name": "venv",
   "language": "python",
   "name": "python3"
  },
  "language_info": {
   "codemirror_mode": {
    "name": "ipython",
    "version": 3
   },
   "file_extension": ".py",
   "mimetype": "text/x-python",
   "name": "python",
   "nbconvert_exporter": "python",
   "pygments_lexer": "ipython3",
   "version": "3.11.4"
  }
 },
 "nbformat": 4,
 "nbformat_minor": 2
}
