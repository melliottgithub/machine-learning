{
 "cells": [
  {
   "cell_type": "code",
   "execution_count": null,
   "metadata": {},
   "outputs": [],
   "source": []
  },
  {
   "cell_type": "markdown",
   "metadata": {},
   "source": [
    "Playing\n",
    "Play \n",
    "Played\n",
    "=> Play"
   ]
  },
  {
   "cell_type": "code",
   "execution_count": 6,
   "metadata": {},
   "outputs": [],
   "source": [
    "words = ['run', 'runner', 'ran', 'runs', 'fairly', 'easily', 'fairness', 'easily']"
   ]
  },
  {
   "cell_type": "code",
   "execution_count": 7,
   "metadata": {},
   "outputs": [],
   "source": [
    "from nltk.stem.porter import PorterStemmer\n",
    "from nltk.stem.snowball import SnowballStemmer"
   ]
  },
  {
   "cell_type": "code",
   "execution_count": 8,
   "metadata": {},
   "outputs": [],
   "source": [
    "p_stemmer = PorterStemmer()\n",
    "s_stemmer = SnowballStemmer(language='english')"
   ]
  },
  {
   "cell_type": "code",
   "execution_count": 9,
   "metadata": {},
   "outputs": [
    {
     "name": "stdout",
     "output_type": "stream",
     "text": [
      "run --> run --> run\n",
      "runner --> runner --> runner\n",
      "ran --> ran --> ran\n",
      "runs --> run --> run\n",
      "fairly --> fairli --> fair\n",
      "easily --> easili --> easili\n",
      "fairness --> fair --> fair\n",
      "easily --> easili --> easili\n"
     ]
    }
   ],
   "source": [
    "for word in words:\n",
    "    print(word + ' --> ' + p_stemmer.stem(word) + ' --> ' + s_stemmer.stem(word))"
   ]
  },
  {
   "cell_type": "code",
   "execution_count": 10,
   "metadata": {},
   "outputs": [],
   "source": [
    "import spacy \n",
    "nlp = spacy.load('en_core_web_sm')"
   ]
  },
  {
   "cell_type": "code",
   "execution_count": 11,
   "metadata": {},
   "outputs": [],
   "source": [
    "s1 = 'The striped bats are hanging on their feet for best'\n",
    "doc1 = nlp(s1)"
   ]
  },
  {
   "cell_type": "code",
   "execution_count": 12,
   "metadata": {},
   "outputs": [
    {
     "name": "stdout",
     "output_type": "stream",
     "text": [
      "The \t the\n",
      "striped \t stripe\n",
      "bats \t bat\n",
      "are \t be\n",
      "hanging \t hang\n",
      "on \t on\n",
      "their \t their\n",
      "feet \t foot\n",
      "for \t for\n",
      "best \t good\n"
     ]
    }
   ],
   "source": [
    "for token in doc1:\n",
    "    print(token.text, '\\t', token.lemma_)"
   ]
  },
  {
   "cell_type": "code",
   "execution_count": 13,
   "metadata": {},
   "outputs": [
    {
     "name": "stdout",
     "output_type": "stream",
     "text": [
      "The --> the\n",
      "striped --> stripe\n",
      "bats --> bat\n",
      "are --> are\n",
      "hanging --> hang\n",
      "on --> on\n",
      "their --> their\n",
      "feet --> feet\n",
      "for --> for\n",
      "best --> best\n"
     ]
    }
   ],
   "source": [
    "\n",
    "for word in s1.split():\n",
    "    print(word + ' --> ' + s_stemmer.stem(word))\n"
   ]
  },
  {
   "cell_type": "code",
   "execution_count": null,
   "metadata": {},
   "outputs": [],
   "source": []
  }
 ],
 "metadata": {
  "kernelspec": {
   "display_name": "venv",
   "language": "python",
   "name": "python3"
  },
  "language_info": {
   "codemirror_mode": {
    "name": "ipython",
    "version": 3
   },
   "file_extension": ".py",
   "mimetype": "text/x-python",
   "name": "python",
   "nbconvert_exporter": "python",
   "pygments_lexer": "ipython3",
   "version": "3.11.4"
  }
 },
 "nbformat": 4,
 "nbformat_minor": 2
}
